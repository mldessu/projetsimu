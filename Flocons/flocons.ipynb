{
 "cells": [
  {
   "cell_type": "code",
   "execution_count": 1,
   "metadata": {},
   "outputs": [],
   "source": [
    "import numpy as np\n",
    "import matplotlib.pyplot as plt\n"
   ]
  },
  {
   "cell_type": "markdown",
   "metadata": {},
   "source": [
    "1. Initialisation du maillage - ici on veut trouver les points de notre maillag qui représentent des sites"
   ]
  },
  {
   "cell_type": "code",
   "execution_count": 37,
   "metadata": {},
   "outputs": [
    {
     "name": "stdout",
     "output_type": "stream",
     "text": [
      "sites: [(0, 1), (0, 2), (1, 0), (2, 1), (2, 2)]\n",
      "grid: [(0, 0), (0, 1), (0, 2), (1, 0), (1, 1), (1, 2), (2, 0), (2, 1), (2, 2)]\n"
     ]
    },
    {
     "data": {
      "image/png": "[encoded data removed]",
      "text/plain": [
       "<Figure size 640x480 with 1 Axes>"
      ]
     },
     "metadata": {},
     "output_type": "display_data"
    }
   ],
   "source": [
    "width = 3 #axe x, direction zigzag\n",
    "height = 3 #axe y, direction armchair\n",
    "\n",
    "#génération des la grille\n",
    "def generate_grid(h, w):\n",
    "    return [(x, y) for x in range(h) for y in range(w)]\n",
    "\n",
    "grid = generate_grid(height, width)\n",
    "\n",
    "\n",
    "sites = []\n",
    "\n",
    "for x in range(width):\n",
    "    if x % 2 == 0:  # Colonnes paires\n",
    "        for y in range(height):\n",
    "            if y % 4 in [1, 2]:  # 1,2,5,6,9,10, ...\n",
    "                sites.append((x, y))\n",
    "    else:  # Colonnes impaires\n",
    "        for y in range(height):\n",
    "            if y % 4 in [0, 3]:  # 3,4,7,8,11,12, ...\n",
    "                sites.append((x, y))\n",
    "\n",
    "# Affichage\n",
    "for i in sites:\n",
    "    plt.scatter(i[0], i[1], marker = '.', color='black')\n",
    "\n",
    "plt.xlabel(\"X axis\")\n",
    "plt.ylabel(\"Y axis\")\n",
    "plt.title(\"Modified Pattern of Sites\")\n",
    "plt.grid()\n",
    "print('sites:', sites)\n",
    "print('grid:', grid)\n",
    "plt.show()\n"
   ]
  },
  {
   "cell_type": "markdown",
   "metadata": {},
   "source": [
    "2. Initialisation du hamiltonien en fonction des dimensions du flocon\n",
    "\n",
    "\\begin{align}\n",
    "\\mathcal{H} = \\epsilon \\sum_{x,y} \\Bigl[\\hat{a}^\\dagger(x,y)\\hat{a}_(x,y)\\Bigr] \n",
    "&- t \\sum_{x} \\sum_{y}\\Bigl[\\hat{a}^\\dagger(x,y)\\hat{a}(x-1,y) + \\hat{a}^\\dagger(x+1,y)\\hat{a}(x,y) + \\text{c.h.} \\Bigr] \\\\&- t \\sum_{x}\\Bigl[\\sum_{y\\text{ impair}}\\hat{a}^\\dagger(x,y)\\hat{a}(x,y-1) + \\sum_{y\\text{ pair}} \\hat{a}^\\dagger(x,y+1)\\hat{a}(x,y) + \\text{c.h.}\\Bigl]\\nonumber\n",
    "\\end{align}"
   ]
  },
  {
   "cell_type": "code",
   "execution_count": 39,
   "metadata": {},
   "outputs": [
    {
     "name": "stdout",
     "output_type": "stream",
     "text": [
      "1 (0, 1)\n",
      "2 (0, 2)\n",
      "3 (1, 0)\n",
      "7 (2, 1)\n",
      "8 (2, 2)\n",
      "[[ 0.  0.  0. -1.  0.  0.  0.  0.  0.]\n",
      " [ 0.  0.  0.  0. -1.  0.  0.  0.  0.]\n",
      " [ 0.  0.  0.  0.  0. -1.  0.  0.  0.]\n",
      " [-1.  0.  0.  0.  0.  0. -1.  0.  0.]\n",
      " [ 0. -1.  0.  0.  0.  0.  0. -1.  0.]\n",
      " [ 0.  0. -1.  0.  0.  0.  0.  0. -1.]\n",
      " [ 0.  0.  0. -1.  0.  0.  0.  0.  0.]\n",
      " [ 0.  0.  0.  0. -1.  0.  0.  0.  0.]\n",
      " [ 0.  0.  0.  0.  0. -1.  0.  0.  0.]]\n"
     ]
    }
   ],
   "source": [
    "H = np.zeros((len(grid), len(grid)))\n",
    "t = -1.0   \n",
    "\n",
    "# Sauts direction zigzag:\n",
    "for index in range(len(grid)):\n",
    "    if grid[index] in sites:\n",
    "        print(index, grid[index])\n",
    "\n",
    "        # Sauts direction zigzag:\n",
    "        s = grid[index]\n",
    "        x = s[0]  # position x du site\n",
    "        y = s[1]  # position y du site\n",
    "\n",
    "        for index_new in range(len(grid)):\n",
    "            if (x+1,y) == grid[index_new]:\n",
    "                H[index, index_new] = t\n",
    "                H[index_new, index] = t\n",
    "            if (x-1,y) == grid[index_new]:\n",
    "                H[index, index_new] = t\n",
    "                H[index_new, index] = t\n",
    "print(H)"
   ]
  },
  {
   "cell_type": "code",
   "execution_count": null,
   "metadata": {},
   "outputs": [],
   "source": [
    "# Paramètres\n",
    "a = 1.0                    # Constante de réseau\n",
    "t = -1.0                   # Amplitude de saut intra–cellule\n",
    "te = -1.0 * 1.12           # Amplitude de saut inter–cellule\n",
    "\n",
    "def hamiltonian_k(k, N, a, t, te):\n",
    "    \"\"\"\n",
    "    Construit la matrice du Hamiltonien H(k) de dimension 2N x 2N,\n",
    "    dans la base [a1, b1, a2, b2, ..., aN, bN].\n",
    "\n",
    "    - Sauts intra–cellule : pour chaque cellule m,\n",
    "      H[2*m-2, 2*m-1] = t et H[2*m-1, 2*m-2] = t.\n",
    "\n",
    "    - Sauts inter–cellule (de la cellule m à m+1 pour m = 1,..,N-1) :\n",
    "      * Type 1 : entre b_m et a_{m+1} (sans phase) : H[2*m-1, 2*(m+1)-2] = te.\n",
    "      * Type 2 : entre a_m et b_{m+1} (avec phase) : H[2*m-2, 2*(m+1)-1] = te * exp(-1j*k*a).\n",
    "    \"\"\"\n",
    "    H = np.zeros((len(sites), len(sites)), dtype=complex)\n",
    "\n",
    "    # Sauts direction zigzag:\n",
    "    for index, s in len(sites),sites:\n",
    "        i = s[0]  # position x du site\n",
    "        j = s[1]  # position y du site\n",
    "        H[i, j] = t\n",
    "        H[j, i] = t\n",
    "\n",
    "    # Sauts inter–cellule : pour m de 1 à N-1 (entre cellule m et m+1)\n",
    "    for m in range(1, N):\n",
    "        # Type 1 : liaison entre b_m (cellule m) et a_{m+1} (cellule m+1) sans phase\n",
    "        i = 2*m - 1              # indice de b_m\n",
    "        j = 2*(m + 1) - 2        # indice de a_{m+1}\n",
    "        H[i, j] = te\n",
    "        H[j, i] = te\n",
    "\n",
    "        # Type 2 : liaison entre a_m (cellule m) et b_{m+1} (cellule m+1) avec facteur de phase e^{-ik*a}\n",
    "        i = 2*m - 2              # indice de a_m\n",
    "        j = 2*(m + 1) - 1        # indice de b_{m+1}\n",
    "        H[i, j] = te * np.exp(-1j * k * a)\n",
    "        H[j, i] = te * np.exp(1j * k * a)\n",
    "\n",
    "    return H"
   ]
  }
 ],
 "metadata": {
  "kernelspec": {
   "display_name": "base",
   "language": "python",
   "name": "python3"
  },
  "language_info": {
   "codemirror_mode": {
    "name": "ipython",
    "version": 3
   },
   "file_extension": ".py",
   "mimetype": "text/x-python",
   "name": "python",
   "nbconvert_exporter": "python",
   "pygments_lexer": "ipython3",
   "version": "3.12.4"
  }
 },
 "nbformat": 4,
 "nbformat_minor": 2
}
