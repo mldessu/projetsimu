{
 "cells": [
  {
   "cell_type": "markdown",
   "id": "5d2dbd6f-f654-44e0-8eb0-85b694d634d6",
   "metadata": {},
   "source": [
    "<div style=\"text-align: center; font-family: Arial, sans-serif; margin-top: 50px;\">\n",
    "<h1 style=\"font-size: 36px; font-weight: bold; color: #4CAF50;\">Mini-projet 1 - Méthode Monte Carlo</h1>\n",
    "<h2 style=\"font-size: 20px; font-weight: bold; color: #4CAF50;\">PHS3903</h2>\n",
    "<h2 style=\"font-size: 20px; margin-bottom: 20px;\"> Marie-Lou Dessureault, Elliott Menu, Tendano Yehama Bantia Luther</h2> \n",
    "<h2 style=\"font-size: 16px; margin-bottom: 10px;\">2211129, 2147422,2141649 </h2>\n",
    "<h2 style=\"font-size: 16px; margin-bottom: 10px;\">22 janvier 2024</h2>\n",
    "<h2 style=\"font-size: 16px; margin-bottom: 10px;\">Shawn Molesky, Maksim Skorobogatiy, Jérémie Villeneuve</h2>\n",
    "</div>\n"
   ]
  },
  {
   "cell_type": "markdown",
   "id": "b5342eb4-aaa2-4884-b2a3-b735d5a63060",
   "metadata": {},
   "source": [
    "### Calcul du volume d'une $N$-sphère (20 points)"
   ]
  },
  {
   "cell_type": "markdown",
   "id": "a19d7970-749f-4fa1-bbea-ef4f244648ec",
   "metadata": {},
   "source": [
    "### Introduction\n",
    "Une $N$-sphère de rayon $R$ est définie comme l'ensemble des points situés à une distance inférieure ou égale à $R$ de l'origine dans un espace à $N$ dimensions. Si on utilise les coordonnées cartésiennes $(x_1, x_2, \\dots, x_N)$ pour décrire un point, alors ce point est situé à l'intérieur de la $N$-sphère si le critère suivant est respecté :\n",
    "\n",
    "$$\n",
    "\\sum_{i=1}^{N} x_i^2 \\leq R^2, \\quad N=1,2,\\dots\n",
    "$$\n",
    "\n",
    "Voici quelques exemples de $N$-sphères afin de clarifier ce concept :\n",
    "* Une 3-sphère est la sphère habituelle en trois dimensions. Son volume est la boule dont la sphère est le contour.\n",
    "* Une 2-sphère est un cercle. Son volume est l'aire du disque circonscrit par le cercle.\n",
    "* Une 1-sphère est formée de deux points sur une droite qui sont situés à égale distance de l'origine. Son volume est défini comme la longueur du segment.\n",
    "\n",
    "Ce concept peut sembler abstrait, mais il apparaît naturellement en physique statistique quand on travaille dans l'espace de phase pour étudier les propriétés d'un ensemble de $N$ particules avec une énergie fixe (ex. : gaz idéal dans une boîte fermée). \n",
    "\n",
    "Dans ce mini-devoir, on vous demande de calculer le volume d'une $N$-sphère de rayon unitaire $R=1$ à l'aide de la méthode de Monte-Carlo vue en classe pour le calcul d'intégrales. Le résultat est déjà connu, à savoir :\n",
    "\n",
    "$$\n",
    "V_N = \\frac{\\pi^{N/2}}{\\Gamma\\left(\\frac{N}{2} + 1\\right)},\n",
    "$$\n",
    "où $\\Gamma(x)$ est la fonction gamma, ce qui vous permettra de calculer l'erreur afin d'analyser le comportement de l'algorithme."
   ]
  },
  {
   "cell_type": "markdown",
   "id": "b5342eb4-aaa2-4884-b2a3-b735d5a63061",
   "metadata": {},
   "source": [
    "### Choix de la méthode de Monte-Carlo"
   ]
  },
  {
   "cell_type": "markdown",
   "id": "a19d7970-749f-4fa1-bbea-ef4f244648ed",
   "metadata": {},
   "source": [
    "**a) [4 pts]** Expliquer pourquoi les méthodes de Monte Carlo pour l'intégration sont avantageuses pour le calcul d'intégrales à $N$ dimensions lorsque $N$ devient grand."
   ]
  },
  {
   "cell_type": "markdown",
   "id": "empty-cell-answer-a",
   "metadata": {},
   "source": [
    "### Réponse a):\n",
    "Les méthodes de Monte-Carlo sont avantageuses pour l’intégration en haute dimension car leur erreur moyenne décroît proportionnellement à $ \\frac{1}{\\sqrt{N_{\\text{tot}}}} $, indépendamment du nombre de dimensions $N$, et elles nécessitent ainsi beaucoup moins de points d’évaluation que les méthodes de quadrature, dont le coût croît exponentiellement avec $N$. Cette efficacité et robustesse, indépendantes de la forme de la fonction (même impossible à résoudre analytiquement), en font souvent la seule option pratique pour des intégrales de grandes dimensions.\n",
    "\n"
   ]
  },
  {
   "cell_type": "markdown",
   "id": "b5342eb4-aaa2-4884-b2a3-b735d5a63062",
   "metadata": {},
   "source": [
    "### Calcul du volume"
   ]
  },
  {
   "cell_type": "markdown",
   "id": "a19d7970-749f-4fa1-bbea-ef4f244648ee",
   "metadata": {},
   "source": [
    "**b) [6 pts]** Calculer le volume d'une $N$-sphère de rayon unitaire pour $N = \\left\\{3,6\\right\\}$. Pour chacune de ces $N$-sphères, calculer le résultat en faisant varier le nombre de points générés à chaque essai en utilisant les valeurs $N_{tot} = \\left\\{100,200,400,800,1600\\right\\}$. Générer 100 essais par simulation et utiliser la valeur moyenne du volume comme résultat. On vous demande donc de calculer dix valeurs de volume (cinq par $N$-sphère).\n",
    "\n",
    "Présenter vos résultats sous forme de tableau, en fournissant une incertitude relative sur chaque résultat. Expliquer comment cette incertitude a été calculée."
   ]
  },
  {
   "cell_type": "markdown",
   "id": "empty-cell-answer-b",
   "metadata": {},
   "source": [
    "### Réponse b):\n",
    "Pour calculer le volume d'une $N$-sphère, le code ci-dessous a été utilisé. Les résultats obtenus pour les valeurs de $N$ et $N_{tot}$ demandées sont présentés dans le tableau 1 ci-dessous. L'incertitude de chaque résultat a été obtenue à partir de l'écart-type des 100 essais:\n",
    "$$\n",
    "\\sigma =  \\sqrt{\\frac{1}{N} \\sum_{i=1}^{N} (x_i - \\mu)^2},\n",
    "$$\n",
    "où $N=100$ dans le cas ci-présent, et $\\mu$ est la moyenne des 100 essais. Pour obtenir l'incertitude relative, l'incertitude $\\sigma$ est divisée par la moyenne $\\mu$ des essais:\n",
    "$$\n",
    "\\sigma_{rel} = \\frac{\\sigma}{\\mu}\\cdot 100.\n",
    "$$\n",
    "La multiplication par 100 sert à ramener l'incertitude relative en terme de pourcentage.\n",
    "<table border=\"1\" width=\"75%\" align=\"center\">\n",
    "    <caption>Tableau 1: Volume d'une N-sphère pour N={3,6} et pour certains N<sub>tot</sub></caption>\n",
    "    <tr>\n",
    "        <td>N</td>\n",
    "        <th colspan=\"5\">3</th>\n",
    "        <th colspan=\"5\">6</th>\n",
    "    </tr>\n",
    "    <tr>\n",
    "        <td>N<sub>tot</sub></td>\n",
    "        <td>100</td>\n",
    "        <td>200</td>\n",
    "        <td>400</td>\n",
    "        <td>800</td>\n",
    "        <td>1600</td>\n",
    "        <td>100</td>\n",
    "        <td>200</td>\n",
    "        <td>400</td>\n",
    "        <td>800</td>\n",
    "        <td>1600</td>\n",
    "    </tr>\n",
    "    <tr>\n",
    "        <td>Volume</td>\n",
    "        <td>4.2560 &plusmn; 9,68% </td>\n",
    "        <td>4.1932 &plusmn; 6,30%</td>\n",
    "        <td>4.1970 &plusmn; 4,87%</td>\n",
    "        <td>4.2007 &plusmn; 3,62%</td>\n",
    "        <td>4.1861 &plusmn; 2,58%</td>\n",
    "        <td>5.2672 &plusmn; 32,7%</td>\n",
    "        <td>5.1872 &plusmn; 23,7%</td>\n",
    "        <td>4.9968 &plusmn; 17,1%</td>\n",
    "        <td>5.0872 &plusmn; 12,7%</td>\n",
    "        <td>5.1792 &plusmn; 8,87%</td>\n",
    "    </tr>\n",
    "</table>\n"
   ]
  },
  {
   "cell_type": "code",
   "execution_count": null,
   "id": "601f865b",
   "metadata": {},
   "outputs": [],
   "source": [
    "import numpy as np\n",
    "import math\n",
    "import matplotlib.pyplot as plt\n",
    "\n",
    "# Paramètres géométriques\n",
    "R = 1.0 # Rayon de la sphère (m)\n",
    "\n",
    "# Paramètres généraux de simulation\n",
    "D_val = [3,6]  # Nombre de dimensions\n",
    "Ntot_val = 100 * 2 ** (np.arange(0, 5, 1))  # Nombre de points par essai\n",
    "Ness = 100 # Nombre d'essais par simulation\n",
    "\n",
    "# Boucle sur le nombre de simulations\n",
    "ND = len(D_val)\n",
    "NNtot = len(Ntot_val)\n",
    "\n",
    "V = np.zeros((ND, NNtot))  # Volumes calculés pour chaque série d'essais\n",
    "inc = np.zeros((ND, NNtot)) # Incertitudes pour chaque série d'essais\n",
    "err_arr = np.zeros_like(V)\n",
    "\n",
    "for d in range(0, ND):\n",
    "    D = D_val[d]  # Dimension\n",
    "    Vtot = ( R * 2 ) ** D # Volume du domaine\n",
    "    Vth = (np.pi ** (D / 2)) / math.gamma(D / 2 + 1)\n",
    "   \n",
    "    for n in range(0, NNtot):\n",
    "        Ntot = Ntot_val[n]  # Nombre de points\n",
    "\n",
    "        Vind = np.zeros(Ness) # Volumes calculés pour chaque essai individuel\n",
    "        e = np.zeros_like(Vind)\n",
    "        for k in range(0, Ness): # Boucle sur les essais\n",
    "            # Génération des nombres aléatoires (distribution uniforme)\n",
    "            np.random.seed() # Initialise le générateur de nombres pseudo-aléatoires afin de ne pas toujours produire la même séquence à l'ouverture de Python...\n",
    "            pts = R * np.random.uniform(low=-R, high=R, size=(Ntot, D)) # Coordonnées des points\n",
    "            \n",
    "            # Calcul du volume\n",
    "            distances = np.linalg.norm(pts, axis=1)\n",
    "            Nint = np.sum(distances <= R) # Nombre de points à l'intérieur\n",
    "            Vind[k] = Nint / Ntot * Vtot # Volume calculé pour cet essai\n",
    "            e[k] = np.abs((Vind[k] - Vth)/ Vth) # Erreur pour cet essai\n",
    "\n",
    "        err_arr[d,n]= np.mean(e) # Erreur relative sur tous les essais\n",
    "        V[d, n] = np.mean(Vind) # Volume moyenné sur l'ensemble des essais\n",
    "        inc[d, n] = np.std(Vind) # Incertitude sur l'ensemble des essais (écart-type)\n",
    "\n",
    "inc_rel = inc / V * 100 # Calcul de l'incertitude relative\n",
    "print(\"Volumes:\", V)\n",
    "print(\"Incertitude relative:\", inc_rel)\n",
    "print(\"Erreur relative:\", err_arr)"
   ]
  },
  {
   "cell_type": "markdown",
   "id": "b5342eb4-aaa2-4884-b2a3-b735d5a63063",
   "metadata": {},
   "source": [
    "### Analyse de l'erreur"
   ]
  },
  {
   "cell_type": "markdown",
   "id": "a19d7970-749f-4fa1-bbea-ef4f244648ef",
   "metadata": {},
   "source": [
    "**c) [4 pts]** À l'aide des résultats précédents obtenus, tracer un graphique de l'erreur relative $E$ sur le volume calculé en fonction de $N_{tot}$ pour chaque $N$-sphère. (Vous tracerez donc deux séries de données sur le même graphique.) Utiliser une échelle qui permet de représenter facilement le comportement de l'erreur."
   ]
  },
  {
   "cell_type": "markdown",
   "id": "empty-cell-answer-c",
   "metadata": {},
   "source": [
    "### Réponse c):\n",
    "Les valeurs pour l'erreur relative *E* ont été calculées en b) grâce à la formule:\n",
    "$$\n",
    "E = \\frac{1}{V_{th}}[\\frac{1}{100} \\sum_{i=1}^{100}|(\\frac{N_{in,i}}{N_{tot}}V_{tot}-V_{th})|]\n",
    "$$\n",
    "Où $V_{th}$ est le volume théorique de la $N$-sphère, calculé avec la fonction fournie dans l'énoncé.\n",
    "\n",
    "On utilisera une échelle logarithmique pour tracer les erreurs relatives pour mieux représenter l'évolution de l'erreur. On en profite aussi pour faire une régression linéaire pour associer une fonction au logarithme de l'erreur relative. \n",
    "\n",
    "Le comportement de l'erreur sera analysé en d) et en e)."
   ]
  },
  {
   "cell_type": "code",
   "execution_count": null,
   "id": "64bbcf10",
   "metadata": {},
   "outputs": [
    {
     "name": "stdout",
     "output_type": "stream",
     "text": [
      "Erreur relative de la 3-sphère(%): [7.13752156 4.87202773 3.52253517 2.72255123 1.86638663]\n",
      "Erreur relative de la 6-sphère(%): [25.20694165 17.34383909 12.16133314 10.20479036  5.98871885]\n"
     ]
    },
    {
     "data": {
      "image/png": "[encoded data removed]",
      "text/plain": [
       "<Figure size 640x480 with 1 Axes>"
      ]
     },
     "metadata": {},
     "output_type": "display_data"
    }
   ],
   "source": [
    "# Initialisation de nos valeurs d'erreur relative et N_tot\n",
    "E_3sphere = err_arr[0]\n",
    "E_6sphere = err_arr[1]\n",
    "print(\"Erreur relative de la 3-sphère(%):\",E_3sphere*100)\n",
    "print(\"Erreur relative de la 6-sphère(%):\",E_6sphere*100)\n",
    "\n",
    "# Imports de lineregress pour effectuer des régression linéaires à partir de nos données\n",
    "from scipy.stats import linregress\n",
    "#régression pour l'erreur relative de la 3-sphère\n",
    "reg_3= linregress(np.log(Ntot_val),np.log(E_3sphere))\n",
    "m3= reg_3.slope\n",
    "b3= reg_3.intercept\n",
    "# Régression pour l'erreur relative de la 6-sphère\n",
    "reg_6= linregress(np.log(Ntot_val), np.log(E_6sphere))\n",
    "m6=reg_6.slope\n",
    "b6=reg_6.intercept\n",
    "\n",
    "# On trace le graphique de l'erreur relative\n",
    "plt.loglog(Ntot_val, E_3sphere, label= \"3-sphère\", color= \"teal\")\n",
    "plt.text(230,0.028,f\"y={m3:.4f}x+{b3:.4f}\", color= \"green\" )\n",
    "plt.loglog(Ntot_val,(Ntot_val **m3)*np.exp(b3), \"--\",label = \"régression pour la 3-sphère\", color= \"green\")\n",
    "plt.loglog(Ntot_val, E_6sphere, label = \"6-sphère\", color=\"b\")\n",
    "plt.text(230,0.1,f\"y={m6:.4f}x+{b6:.4f}\", color=\"dodgerblue\")\n",
    "plt.loglog(Ntot_val,(Ntot_val **m6)*np.exp(b6),\"--\", label = \"régression pour la 6-sphère\", color= \"dodgerblue\")\n",
    "plt.xlabel(\"log($N_{tot}$)\")\n",
    "plt.ylabel(\"Log de l'erreur relative (log(E))\")\n",
    "plt.legend()\n",
    "plt.show()"
   ]
  },
  {
   "cell_type": "markdown",
   "id": "a19d7970-749f-4fa1-bbea-ef4f244648eg",
   "metadata": {},
   "source": [
    "**d) [2 pts]** Déterminer le comportement de l'erreur relative en calculant l'exposant $p$ tel que :\n",
    "\n",
    "$$\n",
    "E = O(N_{tot}^p)\n",
    "$$\n",
    "pour chacune des deux $N$-sphères."
   ]
  },
  {
   "cell_type": "markdown",
   "id": "6819092f",
   "metadata": {},
   "source": [
    "### Réponse d):\n",
    "Nous considérons l’expression :\n",
    "\n",
    "$$\n",
    "E = O\\bigl(N_{\\text{tot}}^{\\,p}\\bigr).\n",
    "$$\n",
    "\n",
    "En effectuant une régression linéaire de $\\log(E)$ en fonction de $\\log(N_{\\text{tot}})$, on obtient :\n",
    "\n",
    "- **3-sphère :** $p \\approx -0{,}47$\n",
    "- **6-sphère :** $p \\approx -0{,}49$\n",
    "\n",
    "Car l'ordre $p$ décrit l'évolution de la pente du graphique de la question c).\n",
    "\n"
   ]
  },
  {
   "cell_type": "markdown",
   "id": "a19d7970-749f-4fa1-bbea-ef4f244648eh",
   "metadata": {},
   "source": [
    "**e) [4 pts]** Discuter des points suivants :\n",
    "* Comment les valeurs de $p$ calculées se comparent-t-elle aux valeurs théoriques attendues ?\n",
    "* La précision des résultats obtenus est-elle la même pour la 3-sphère et pour la 6-sphère ?\n",
    "* Comment l'incertitude relative calculée en (b) se compare-t-elle à l'erreur relative ?"
   ]
  },
  {
   "cell_type": "markdown",
   "id": "empty-cell-answer-e",
   "metadata": {},
   "source": [
    "### Réponse e):\n",
    "* Pour une intégration de Monte-Carlo, l'erreur relative théorique tend vers \n",
    "    $$\n",
    "    \\frac{1}{\\sqrt{N_{\\text{tot}}}},\n",
    "    $$ext{tot}}}}.\n",
    "    ce qui correspond à une valeur de $p=-\\tfrac{1}{2}$. Cette valeur de $p$ attendue ne dépend pas de la dimensionnalité de l'intégrale, ce qui est observé avec les résultats en $d)$. Effectivement, les valeurs obtenues, soit de $p \\approx -0{,}47$ et  de $p \\approx -0{,}49$ pour une 3-sphère et une 6-sphère respectivement, sont toutes deux considérablement proches de $p=-\\tfrac{1}{2}$.\n",
    "\n",
    "* L'incertitude relative, est plus grande pour la 6-sphère que pour la 3-sphère, la précision est donc meilleure pour la 3-sphère (l'écart type entre les résultats est plus petit). Ceci découle du fait que le ratio entre le volume d'un $N$-cube de côté 2 qui l'entoure et d'une $N$-sphère de rayon 1 est donné par:\n",
    "    $$\n",
    "    R = \\frac{2^N}{V_N}\n",
    "    $$\n",
    "    où $N$ est la dimension des deux objets et $V_N = \\frac{\\pi^{N/2}}{\\Gamma\\left(\\frac{N}{2} + 1\\right)}$ comme dans l'énoncé.  On remarque que $R$ augmente avec $N$, c'est une fonction croissante pour $N\\ge1$. Il y a alors, pour une dimension plus élevée, une plus petite proportion du volume généralisé qui correspond à l'intérieur de la sphère. On constatera donc que pour une dimension plus élevée, il faudra avoir une nombre plus grand de points $N_{tot}$ pour caractériser correctement le ratio intérieur/extérieur. Il découle donc que pour le même nombre de points, la précision soit meilleure pour la 3-sphère que pour la 6-sphère, puisqu'il y a plus de probabilité que le nombre de points utilisés pour caractériser la géométrie soit suffisant.\n",
    "\n",
    "* On remarque que l'erreur relative pour les deux $N$-sphères est plus petite que l'incertitude relative de celles-ci. On remarque que ces deux valeurs gardent un écart relatif similaire selon $N_{tot}$ et que l'incertitude relative semble donc elle aussi évoluer en fonction de $\\frac{1}{\\sqrt{(N_{tot})}}$. La méthode semble donc fournir un choix d'intervalle d'incertitude satisfaisant, car il contient la valeur recherchée et ce avec une erreur plus faible que l'écart type.\n",
    "\n",
    "\n"
   ]
  }
 ],
 "metadata": {
  "kernelspec": {
   "display_name": "base",
   "language": "python",
   "name": "python3"
  },
  "language_info": {
   "codemirror_mode": {
    "name": "ipython",
    "version": 3
   },
   "file_extension": ".py",
   "mimetype": "text/x-python",
   "name": "python",
   "nbconvert_exporter": "python",
   "pygments_lexer": "ipython3",
   "version": "3.12.4"
  }
 },
 "nbformat": 4,
 "nbformat_minor": 5
}
