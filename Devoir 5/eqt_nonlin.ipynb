{
 "cells": [
  {
   "cell_type": "markdown",
   "id": "eb8acad0-6cfe-4cc3-b4ae-b2c43b9f4f6c",
   "metadata": {},
   "source": [
    "<div style=\"text-align: center; font-family: Arial, sans-serif; margin-top: 50px;\">\n",
    "<h1 style=\"font-size: 36px; font-weight: bold; color: #4CAF50;\">Mini-devoir 5 -- Hiver 2025</h1>\n",
    "<h1 style=\"font-size: 20px; font-weight: bold; color: #4CAF50;\">PHS3903 -- Projet de simulation</h1>\n",
    "<h2 style=\"font-size: 20px; margin-bottom: 20px;\"> Marie-Lou Dessureault, </h2>\n",
    "<h2 style=\"font-size: 16px; margin-bottom: 10px;\">2211129, </h2>\n",
    "<h2 style=\"font-size: 20px; margin-bottom: 20px;\"> Tendano Yehama Bantia Luther, </h2>\n",
    "<h2 style=\"font-size: 16px; margin-bottom: 10px;\">2141649, </h2>\n",
    "<h2 style=\"font-size: 20px; margin-bottom: 20px;\"> Elliott Menu, </h2>\n",
    "<h2 style=\"font-size: 16px; margin-bottom: 10px;\">2147422, </h2>\n",
    "<h2 style=\"font-size: 16px; margin-bottom: 10px;\">26 Février 2024</h2>\n",
    "<h2 style=\"font-size: 16px; margin-bottom: 10px;\">Shawn Molesky, Maksim Skorobogatiy, Jérémie Villeneuve</h2>\n",
    "</div>\n",
    "\n",
    "--------------------------------------------------------------------------------------------------------------------------------------------------------\n"
   ]
  },
  {
   "cell_type": "markdown",
   "id": "6d504482-5287-43cc-affb-6df9af523860",
   "metadata": {},
   "source": [
    "--------------------------------------------------------------------------------------------------------------------------------------------------------\n"
   ]
  },
  {
   "cell_type": "markdown",
   "id": "2a39a968-9eaa-48b0-a46a-734b6be1eed1",
   "metadata": {},
   "source": [
    "## Directives\n",
    "\n",
    "Répondre aux questions suivantes à l'aide du code Python fourni sur Moodle, auquel vous aurez apporté les modifications nécessaires. Justifier vos réponses avec clarté et concision. Vos tableaux et figures doivent être lisibles et présentés selon les règles de l'art.\n",
    "\n",
    "Remettre un fichier en format Jupyter Notebook (.ipynb) en utilisant le gabarit fourni dans la boîte de dépôt Moodle.\n"
   ]
  },
  {
   "cell_type": "markdown",
   "id": "c1f94c0f-cf19-4a5a-98e2-25cf28457811",
   "metadata": {},
   "source": [
    "--------------------------------------------------------------------------------------------------------------------------------------------------------\n"
   ]
  },
  {
   "cell_type": "markdown",
   "id": "fcb9c35e-4f12-4606-b9e7-e0f4e385d87d",
   "metadata": {},
   "source": [
    "## Méthode de Newton pour ajustement des données expérimentales (20 points)\n",
    "\n",
    "Dans le cadre de ce mini-projet, nous utiliserons la méthode de Newton pour ajuster sur des données expérimentales une équation analytique de la forme :\n",
    "$$ye = \\frac{p_1}{p^2_2 + (xe-p_3)^2}$$\n",
    "Les données à importer dans votre code se trouvent dans le fichier « mini\\_projet\\_3\\_donnees.txt ».\n",
    "\n",
    "Entre autre, on vous demande de programmer la méthode de Newton pour déduire la valeur des paramètres $p_1$, $p_2$, et $p_3$. Ce problème d’ajustement de modèle théorique $(x,y)$ sur des données expérimentales $(x_e, y_e)$ peut être ramené à la minimisation de la fonction d’erreur :\n",
    "$$Q(p_1, p_2, p_3) = \\frac{1}{2}\\sum_{i=1}^{\\text{length}(xe)} q_i(p_1, p_2, p_3)^2$$\n",
    "où on définit :\n",
    "$$q_i(p_1, p_2, p_3) = ye_i - \\frac{p_1}{p^2_2 + (xe-p_3)^2} \\,.$$\n"
   ]
  },
  {
   "cell_type": "markdown",
   "id": "a8170152-fc87-4f4e-ae92-9553df2a3c9d",
   "metadata": {},
   "source": [
    "--------------------------------------------------------------------------------------------------------------------------------------------------------"
   ]
  },
  {
   "cell_type": "markdown",
   "id": "21e8d3c2-fadc-4778-8f3a-cea547875deb",
   "metadata": {},
   "source": [
    "### Question 1 : Déterminer les dérivées\n",
    "\n",
    "**(5 points)** Écrivez de façon explicite les trois expressions des dérivées de premier ordre $\\frac{\\partial q_i}{\\partial p_j}$ avec $j = 1, 2, 3$ au moyen de (3).\n",
    "\n",
    "**(5 points)** Écrivez de façon explicite les neuf expressions de dérivée seconde $\\frac{\\partial^2 q_i}{\\partial p_j \\partial p_k}$, avec $j, k = 1, 2, 3$. Notez bien que seules six d’entre elles sont différentes.\n"
   ]
  },
  {
   "cell_type": "markdown",
   "id": "e6d59e0f-440a-46bc-a271-fa09ec09ab52",
   "metadata": {},
   "source": [
    "### Réponse **a)** :\n"
   ]
  },
  {
   "cell_type": "markdown",
   "id": "e665a7fb",
   "metadata": {},
   "source": [
    "On commence par la dérivée de premier ordre en fonction de $p_1$:\n",
    "$$\n",
    "\\frac{\\delta q_i}{\\delta p_1}= \\frac{\\delta}{\\delta p_1} (y_{e_i}-\\frac{p_1}{p_2^2+(x_{e_i}-p_3)^2})=-\\frac{1}{p_2^2+(x_{e_i}-p_3)^2}.\n",
    "$$\n",
    "La dérivée de premier ordre en fonction de $p_2$ est:\n",
    "$$\n",
    "\\frac{\\delta q_i}{\\delta p_2}= \\frac{\\delta}{\\delta p_2} (y_{e_i}-\\frac{p_1}{p_2^2+(x_{e_i}-p_3)^2})=\\frac{2p_1p_2}{(p_2^2+(x_{e_i}-p_3)^2)^2}.\n",
    "$$\n",
    "Finalement, la dérivée de premier ordre en fonction de $p_3$ est:\n",
    "$$\n",
    "\\frac{\\delta q_i}{\\delta p_3}= \\frac{\\delta}{\\delta p_3} (y_{e_i}-\\frac{p_1}{p_2^2+(x_{e_i}-p_3)^2})=-\\frac{2p_1(x_{e_i}-p_3)}{(p_2^2+(x_{e_i}-p_3)^2)^2}.\n",
    "$$"
   ]
  },
  {
   "cell_type": "markdown",
   "id": "0946e814-bfe3-4e95-8c43-ead69e05cd83",
   "metadata": {},
   "source": [
    "### Réponse **b)** :"
   ]
  },
  {
   "cell_type": "markdown",
   "id": "5e91cc8c",
   "metadata": {},
   "source": [
    "On commence par les dérivées de deuxième ordre en fonction de $p_1$, $p_2$ et $p_3$:\n",
    "\n",
    "$$\n",
    "\\begin{gathered}\n",
    "  \\bullet \\ \\frac{\\delta^2 q_i}{\\delta p_1^2}= \\frac{\\delta}{\\delta p_1} (-\\frac{1}{p_2^2+(x_{e_i}-p_3)^2})=0 \\\\\n",
    "  \\bullet \\ \\frac{\\delta^2 q_i}{\\delta p_2^2}= \\frac{\\delta}{\\delta p_2} (\\frac{2p_1p_2}{(p_2^2+(x_{e_i}-p_3)^2)^2}) = \\frac{2p_1}{(p_2^2+(x_{e_i}-p_3)^2)^2}-\\frac{8p_1p_2^2}{(p_2^2+(x_{e_i}-p_3)^2)^3}\\\\\n",
    "  \\frac{\\delta^2 q_i}{\\delta p_2^2}=\\frac{2p_1(x_{e_i}-p_3)^2-6p_1p_2^2}{(p_2^2+(x_{e_i}-p_3)^2)^3}\\\\\n",
    "  \\bullet \\ \\frac{\\delta^2 q_i}{\\delta p_3^2}= \\frac{\\delta}{\\delta p_3} (-\\frac{2p_1(x_{e_i}-p_3)}{(p_2^2+(x_{e_i}-p_3)^2)^2})=\\frac{2p_1}{(p_2^2+(x_{e_i}-p_3)^2)^2}-\\frac{8p_1(x_{e_i}-p_3)^2}{(p_2^2+(x_{e_i}-p_3)^2)^3}\\\\\n",
    "  \\frac{\\delta^2 q_i}{\\delta p_3^2}=\\frac{2p_1p_2^2-6p_1(x_{e_i}-p_3)^2}{(p_2^2+(x_{e_i}-p_3)^2)^3}\n",
    "\\end{gathered}\n",
    "$$\n",
    "\n",
    "On évalue ensuite les dérivées mixtes de deuxième ordre:\n",
    "$$\n",
    "\\begin{gathered}\n",
    "  \\bullet \\ \\frac{\\delta^2 q_i}{\\delta p_1 \\delta p_2}= \\frac{\\delta^2 q_i}{\\delta p_2 \\delta p_1}= \\frac{\\delta}{\\delta p_1}(\\frac{2p_1p_2}{(p_2^2+(x_{e_i}-p_3)^2)^2})=\\frac{2p_2}{(p_2^2+(x_{e_i}-p_3)^2)^2} \\\\\n",
    "  \\bullet \\ \\frac{\\delta^2 q_i}{\\delta p_1 \\delta p_3}= \\frac{\\delta^2 q_i}{\\delta p_3 \\delta p_1}= \\frac{\\delta}{\\delta p_1}(-\\frac{2p_1(x_{e_i}-p_3)}{(p_2^2+(x_{e_i}-p_3)^2)^2})=-\\frac{2(x_{e_i}-p_3)}{(p_2^2+(x_{e_i}-p_3)^2)^2} \\\\\n",
    "  \\bullet \\ \\frac{\\delta^2 q_i}{\\delta p_2 \\delta p_3}= \\frac{\\delta^2 q_i}{\\delta p_3 \\delta p_2}= \\frac{\\delta}{\\delta p_3}(\\frac{2p_1p_2}{(p_2^2+(x_{e_i}-p_3)^2)^2})=\\frac{8p_2p_1(x_{e_i}-p_3)}{(p_2^2+(x_{e_i}-p_3)^2)^3} \\\\\n",
    "\\end{gathered}\n",
    "$$"
   ]
  },
  {
   "cell_type": "markdown",
   "id": "432cefb9-3aa2-42ba-a2de-c6480f10a8a2",
   "metadata": {},
   "source": [
    "--------------------------------------------------------------------------------------------------------------------------------------------------------"
   ]
  },
  {
   "cell_type": "markdown",
   "id": "622bbe9c-ba99-401c-ab67-0c301a1f6e5a",
   "metadata": {},
   "source": [
    "### Question 2 : Implémentation de la méthode de Newton\n",
    "\n",
    "**(3 points)** Utilisez les données expérimentales qui se trouvent dans le fichier *mini_projet_3_donnees.txt* (le fichier est disponible sur Moodle). Utilisez une tolérance $\\text{tol} = 10^{-6}$. Quelles sont les valeurs convergées des paramètres $p_1^{(conv)}$, $p_2^{(conv)}$, $p_3^{(conv)}$ ? Donnez un exemple des valeurs initiales $\\mathbf{p}_0 = (p_1, p_2, p_3)$ qui mènent à la convergence d’une méthode de Newton.\n",
    "\n",
    "**(2 points)** Quelle est la valeur de la fonction d’erreur $Q(p_1^{(conv)}, p_2^{(conv)}, p_3^{(conv)}$ ?\n"
   ]
  },
  {
   "cell_type": "markdown",
   "id": "b54d8267-8ccc-468b-a377-65e3187fdf4d",
   "metadata": {},
   "source": [
    "### Réponse **c)** :\n",
    "\n",
    "Pour initialiser la méthode de Newton, nous déterminons les valeurs initiales à partir des données expérimentales et du modèle théorique\n",
    "\n",
    "$$\n",
    "y = \\frac{p_1}{p_2^2 + (x - p_3)^2}.\n",
    "$$\n",
    "\n",
    "Le modèle atteint son maximum lorsque le dénominateur est minimal, c'est-à-dire pour $x = p_3$. À ce point, on a :\n",
    "\n",
    "$$\n",
    "y_{\\text{max}} = \\frac{p_1}{p_2^2}.\n",
    "$$\n",
    "\n",
    "**Démarche pour déterminer les valeurs initiales :**\n",
    "\n",
    "1. **Détermination de $p_{3,0}$ :**  \n",
    "   - On identifie le pic des données expérimentales en cherchant l'indice où $y$ est maximal.  \n",
    "   - La valeur correspondante de $x$ est alors choisie pour $p_{3,0}$.  \n",
    "   Par exemple, si le maximum est atteint pour $x \\approx 2.9$, alors :\n",
    "   $$\n",
    "   p_{3,0} \\approx 2.9.\n",
    "   $$\n",
    "\n",
    "2. **Choix de $p_{2,0}$ et calcul de $p_{1,0}$ :**  \n",
    "   - On choisit une valeur raisonnable pour $p_{2,0}$. Par exemple, $p_{2,0} = 2.0$.  \n",
    "   - En utilisant la relation au maximum, on déduit :\n",
    "     $$\n",
    "     p_{1,0} \\approx y_{\\text{max}} \\times p_{2,0}^2.\n",
    "     $$\n",
    "   - Si $y_{\\text{max}} \\approx 0.399$, alors :\n",
    "     $$\n",
    "     p_{1,0} \\approx 0.399 \\times 4 \\approx 1.6.\n",
    "     $$\n"
   ]
  },
  {
   "cell_type": "code",
   "execution_count": 73,
   "id": "2a6ef6e2-b349-47cf-8fcc-4e1b8ae55eb4",
   "metadata": {},
   "outputs": [
    {
     "name": "stdout",
     "output_type": "stream",
     "text": [
      "Valeurs convergées : p1 = 2.000000, p2 = 2.236068, p3 = 3.000000\n"
     ]
    }
   ],
   "source": [
    "import numpy as np\n",
    "\n",
    "# Valeurs initiales pour les paramètres (à ajuster selon les résultats précédents)\n",
    "p1_conv, p2_conv, p3_conv = 1.6, 2.236068 , 3  # Remplacer par les valeurs réelles trouvées\n",
    "tol = 1e-6\n",
    "\n",
    "# Fonction pour lire les données à partir du fichier\n",
    "def read_data():\n",
    "    data = np.loadtxt(r\"C:\\Users\\menue\\OneDrive\\Documents\\GitHub\\projetsimu\\Devoir 5\\mini_projet_4_donnees.txt\")\n",
    "    x = data[:, 0]\n",
    "    y = data[:, 1]\n",
    "    return x, y\n",
    "\n",
    "# Méthode de Newton pour ajuster les paramètres p1, p2, p3\n",
    "def newton_method(x, y, p1, p2, p3, tol=tol):\n",
    "    N = len(x)\n",
    "    c = 1\n",
    "    err = 2 * tol\n",
    "\n",
    "    while err > tol and c < 100:\n",
    "        c += 1\n",
    "        \n",
    "        # Calcul de la fonction d'erreur et ses dérivées par rapport à p1, p2, p3\n",
    "        q = y - p1 / (p2**2 + (x - p3)**2)\n",
    "        dqdp1 = -1 / (p2**2 + (x - p3)**2)\n",
    "        dqdp2 = (2 * p2 * p1) / ((p2**2 + (x - p3)**2)**2)\n",
    "        dqdp3 = -(2 * (x - p3) * p1) / ((p2**2 + (x - p3)**2)**2)\n",
    "\n",
    "        F1 = np.sum(q * dqdp1)\n",
    "        F2 = np.sum(q * dqdp2)\n",
    "        F3 = np.sum(q * dqdp3)\n",
    "        F = np.array([F1, F2, F3])\n",
    "\n",
    "        # Calcul de la matrice Jacobienne\n",
    "        dF1dp1 = np.sum([dqdp1*dqdp1 + q* 0])\n",
    "        dF1dp2 = np.sum([dqdp1*dqdp2 + q* (2*p2)/(p2**2+(x-p3)**2)**2])\n",
    "        dF1dp3 = np.sum([dqdp1*dqdp3 + q* (-2*(x-p3))/(p2**2+(x-p3)**2)**2])\n",
    "        dF2dp1 = np.sum([dqdp2*dqdp1 + q* (2*p2)/(p2**2+(x-p3)**2)**2])\n",
    "        dF2dp2 = np.sum([dqdp2*dqdp2 + q* (2*p1*(x-p3)**2-6*p1*p2**2)/(p2**2+(x-p3)**2)**3])\n",
    "        dF2dp3 = np.sum([dqdp2*dqdp3 + q* (8*p1*p2*(x-p3))/(p2**2+(x-p3)**2)**3])\n",
    "        dF3dp1 = np.sum([dqdp3*dqdp1 + q* (-2*(x-p3))/(p2**2+(x-p3)**2)**2])\n",
    "        dF3dp2 = np.sum([dqdp3*dqdp2 + q* (8*p1*p2*(x-p3))/(p2**2+(x-p3)**2)**3])\n",
    "        dF3dp3 = np.sum([dqdp3*dqdp3 + q* (2*p1*p2**2-6*p1*(x-p3)**2)/(p2**2+(x-p3)**2)**3])\n",
    "\n",
    "        dFdc = np.array([\n",
    "            [dF1dp1, dF1dp2, dF1dp3],\n",
    "            [dF2dp1, dF2dp2, dF2dp3],\n",
    "            [dF3dp1, dF3dp2, dF3dp3]\n",
    "        ])\n",
    "\n",
    "        # Mise à jour des paramètres\n",
    "        dc = -np.linalg.solve(dFdc, F)\n",
    "        p1 += dc[0]\n",
    "        p2 += dc[1]\n",
    "        p3 += dc[2]\n",
    "        err = np.linalg.norm(dc)\n",
    "\n",
    "    return p1, p2, p3, err  \n",
    "\n",
    "# Lire les données\n",
    "x, y = read_data()\n",
    "# Exemple de valeurs initiales menant à la convergence\n",
    "p1_0, p2_0, p3_0 = 1.6, 2, 2.9\n",
    "# Trouver les valeurs convergées\n",
    "p1_final, p2_final, p3_final, err = newton_method(x, y, p1_0, p2_0, p3_0, tol)\n",
    "print(f\"Valeurs convergées : p1 = {p1_final:.6f}, p2 = {p2_final:.6f}, p3 = {p3_final:.6f}\")\n"
   ]
  },
  {
   "cell_type": "markdown",
   "id": "c76b6083-78db-4b2a-aae4-ffdbdde1323a",
   "metadata": {},
   "source": [
    "### Réponse **d)** :\n"
   ]
  },
  {
   "cell_type": "code",
   "execution_count": 74,
   "id": "b181353b-4ebc-4711-a5ea-b96f428d9990",
   "metadata": {},
   "outputs": [
    {
     "name": "stdout",
     "output_type": "stream",
     "text": [
      "Valeur de la fonction d'erreur Q : 5.209873e-17\n"
     ]
    }
   ],
   "source": [
    "# Calcul de la fonction d'erreur Q\n",
    "def error_function(p1, p2, p3, x, y):\n",
    "    Q =  0.5 * np.sum((y - p1 / (p2**2 + (x - p3)**2))**2)\n",
    "    return Q\n",
    "\n",
    "Q_final = error_function(p1_final, p2_final, p3_final, x, y)\n",
    "print(f\"Valeur de la fonction d'erreur Q : {Q_final:.6e}\")"
   ]
  },
  {
   "cell_type": "markdown",
   "id": "3ed7db3e-5f02-4a94-b5d5-1cf1723468ba",
   "metadata": {},
   "source": [
    "--------------------------------------------------------------------------------------------------------------------------------------------------------\n"
   ]
  },
  {
   "cell_type": "markdown",
   "id": "e7cbf501-6bdb-438b-842b-0a7f4813e7bf",
   "metadata": {},
   "source": [
    "### Question 3 : Sensibilité de la méthode\n",
    "\n",
    "**(3 points)** Il est bien connu que la convergence de la méthode de Newton est très sensible aux estimations initiales des paramètres $\\mathbf{p}_0$. Il est donc intéressant d’étudier la région de convergence de la méthode.\n",
    "\n",
    "En particulier, utilisez les valeurs convergées des paramètres $p_1^{(conv)}$, $p_2^{(conv)}$, $p_3^{(conv)}$ trouvés dans la partie c). Répétez la méthode de Newton pour différentes valeurs initiales de la forme $\\mathbf{p}_n^{(0)} = (p_1^{(conv)}, p_2^{(conv)}, p_3) $, avec $p_3 = (0:0.001:2)p_3^{(conv)}$. Ensuite, tracez $Q$ comme une fonction de $p_3$ sur l’échelle logarithmique.\n"
   ]
  },
  {
   "cell_type": "markdown",
   "id": "801ad6de-67f0-4ea8-ac0e-5de9a59773f8",
   "metadata": {},
   "source": [
    "### Reponse **e)** :"
   ]
  },
  {
   "cell_type": "code",
   "execution_count": 75,
   "id": "c782209a-e220-4032-8a29-50ddb2e9ba8b",
   "metadata": {},
   "outputs": [
    {
     "data": {
      "image/png": "[encoded data removed]",
      "text/plain": [
       "<Figure size 640x480 with 1 Axes>"
      ]
     },
     "metadata": {},
     "output_type": "display_data"
    },
    {
     "name": "stdout",
     "output_type": "stream",
     "text": [
      "Intervalle de stabilité: p3_min = 2.505, p3_max = 3.477\n"
     ]
    }
   ],
   "source": [
    "# Fonction principale pour explorer la région de convergence\n",
    "import matplotlib.pyplot as plt\n",
    "\n",
    "def explore_convergence(p1_conv, p2_conv, p3_conv, x, y, tol=1e-6):\n",
    "    p3_values = np.arange(0, 2*p3_conv, 0.001*p3_conv)\n",
    "    Q_values = []\n",
    "    stable_p3_min = None\n",
    "    stable_p3_max = None\n",
    "\n",
    "    for p3 in p3_values:\n",
    "        p1, p2, p3_final, err = newton_method(x, y, p1_conv, p2_conv, p3, tol=tol)\n",
    "        Q = error_function(p1, p2, p3_final, x, y)\n",
    "        Q_values.append(Q)\n",
    "\n",
    "        if err < tol:\n",
    "            if stable_p3_min is None:\n",
    "                stable_p3_min = p3\n",
    "            stable_p3_max = p3\n",
    "        #else:\n",
    "            #if stable_p3_max is not None:\n",
    "                #break\n",
    "\n",
    "\n",
    "    # Tracer Q en fonction de p3 sur une échelle logarithmique\n",
    "    plt.plot(p3_values, Q_values, color = \"dodgerblue\")\n",
    "    plt.title(\"Erreur en fonction de la valeur initiale de $p_3$\")\n",
    "    plt.xlabel(\"$p_3$ initial\")\n",
    "    plt.ylabel(\"Erreur $(Q)$\")\n",
    "    plt.yscale(\"log\")\n",
    "    plt.show()\n",
    "    \n",
    "\n",
    "    return stable_p3_min, stable_p3_max\n",
    "\n",
    "# Explorer la convergence pour différentes valeurs de p3\n",
    "p3_min, p3_max = explore_convergence(p1_final, p2_final, p3_final, x, y, tol)\n",
    "print(f\"Intervalle de stabilité: p3_min = {p3_min:.3f}, p3_max = {p3_max:.3f}\")"
   ]
  },
  {
   "cell_type": "markdown",
   "id": "cd368101",
   "metadata": {},
   "source": [
    "On a ici tracé la courbe de la fonction erreur $Q$ selon la valeur initiale de $p_3$, ce qui nous permet de constater l'interval de convergence autour de $p_3 = 3$ avec $p_{3min} = 2.505$ et $p_{3max} = 3.477$."
   ]
  },
  {
   "cell_type": "markdown",
   "id": "f0fb0226-6b8a-4ccf-a949-23300a020dcd",
   "metadata": {},
   "source": [
    "**(2 points)** Trouvez le plus large intervalle de stabilité $p_3^{(min)} \\leq p_3 \\leq p_3^{(max)}$ de la méthode en fonction de la valeur de $p_3$. Quelles sont les valeurs de $p_3^{(min)}$ et $p_3^{(max)}$ ?"
   ]
  },
  {
   "cell_type": "markdown",
   "id": "c40e4926-0265-456e-b4a1-f244ed61d3f5",
   "metadata": {},
   "source": [
    "### Réponse **f)** :"
   ]
  },
  {
   "cell_type": "markdown",
   "id": "ca28c20d-c5fc-40ef-8492-9010a04e89aa",
   "metadata": {},
   "source": [
    "--------------------------------------------------------------------------------------------------------------------------------------------------------"
   ]
  },
  {
   "cell_type": "code",
   "execution_count": 66,
   "id": "492132b1-2f48-4f39-ac0c-18bd123c14d6",
   "metadata": {},
   "outputs": [
    {
     "data": {
      "image/png": "[encoded data removed]",
      "text/plain": [
       "<Figure size 640x480 with 1 Axes>"
      ]
     },
     "metadata": {},
     "output_type": "display_data"
    },
    {
     "name": "stdout",
     "output_type": "stream",
     "text": [
      "Intervalle de stabilité: p3_min = 2.520, p3_max = 3.450\n"
     ]
    }
   ],
   "source": [
    "def explore_convergence(p1_conv, p2_conv, p3_conv, x, y, tol=1e-6):\n",
    "    p3_values = np.arange(-100*p3_conv, 100*p3_conv, 0.01*p3_conv)\n",
    "    Q_values = []\n",
    "    stable_p3_min = None\n",
    "    stable_p3_max = None\n",
    "    err_val = []\n",
    "\n",
    "    for p3 in p3_values:\n",
    "        p1, p2, p3_final, err = newton_method(x, y, p1_conv, p2_conv, p3, tol=tol)\n",
    "        Q = error_function(p1, p2, p3_final, x, y)\n",
    "        Q_values.append(Q)\n",
    "        err_val.append(err)\n",
    "\n",
    "        if err < tol:\n",
    "            if stable_p3_min is None:\n",
    "                stable_p3_min = p3\n",
    "            stable_p3_max = p3\n",
    "        #else:\n",
    "            #if stable_p3_max is not None:\n",
    "                #break\n",
    "\n",
    "\n",
    "    # Tracer Q en fonction de p3 sur une échelle logarithmique\n",
    "    plt.plot(p3_values, Q_values, color = \"dodgerblue\")\n",
    "    plt.title(\"Erreur en fonction de la valeur initiale de $p_3$\")\n",
    "    plt.xlabel(\"$p_3$ initial\")\n",
    "    plt.ylabel(\"Erreur $(Q)$\")\n",
    "    plt.yscale(\"log\")\n",
    "    plt.show()\n",
    "    \n",
    "\n",
    "    return stable_p3_min, stable_p3_max\n",
    "\n",
    "# Explorer la convergence pour différentes valeurs de p3\n",
    "p3_min, p3_max = explore_convergence(p1_final, p2_final, p3_final, x, y, tol)\n",
    "print(f\"Intervalle de stabilité: p3_min = {p3_min:.3f}, p3_max = {p3_max:.3f}\")"
   ]
  },
  {
   "cell_type": "markdown",
   "id": "2fed30dd",
   "metadata": {},
   "source": [
    "On confirme bien que l'interval trouvé en e) est le plus grand interval de convergence, même en élargissant les valeurs initiales étudiées. L'interval est donc bien celui qu'on avait trouvé, avec $p_3$ entre $p_{3min} = 2.505$ et $p_{3max} = 3.477$. (Les valeurs de ce deuxième graphique sont différentes car le pas était plus grand.)"
   ]
  }
 ],
 "metadata": {
  "kernelspec": {
   "display_name": "Python 3",
   "language": "python",
   "name": "python3"
  },
  "language_info": {
   "codemirror_mode": {
    "name": "ipython",
    "version": 3
   },
   "file_extension": ".py",
   "mimetype": "text/x-python",
   "name": "python",
   "nbconvert_exporter": "python",
   "pygments_lexer": "ipython3",
   "version": "3.12.4"
  }
 },
 "nbformat": 4,
 "nbformat_minor": 5
}
