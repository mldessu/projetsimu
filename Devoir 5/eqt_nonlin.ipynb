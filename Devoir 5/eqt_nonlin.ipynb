{
 "cells": [
  {
   "cell_type": "markdown",
   "id": "eb8acad0-6cfe-4cc3-b4ae-b2c43b9f4f6c",
   "metadata": {},
   "source": [
    "<div style=\"text-align: center; font-family: Arial, sans-serif; margin-top: 50px;\">\n",
    "<h1 style=\"font-size: 36px; font-weight: bold; color: #4CAF50;\">Mini-devoir X -- Hiver 2025</h1>\n",
    "<h1 style=\"font-size: 20px; font-weight: bold; color: #4CAF50;\">PHS3903 -- Projet de simulation</h1>\n",
    "<h2 style=\"font-size: 20px; margin-bottom: 20px;\">[Noms/Prénoms]</h2>\n",
    "<h2 style=\"font-size: 16px; margin-bottom: 10px;\">[Matricules]</h2>\n",
    "<h2 style=\"font-size: 16px; margin-bottom: 10px;\">[Date]</h2>\n",
    "<h2 style=\"font-size: 16px; margin-bottom: 10px;\">[Nom des Professeurs]</h2>\n",
    "</div>\n",
    "\n",
    "--------------------------------------------------------------------------------------------------------------------------------------------------------\n"
   ]
  },
  {
   "cell_type": "markdown",
   "id": "6d504482-5287-43cc-affb-6df9af523860",
   "metadata": {},
   "source": [
    "--------------------------------------------------------------------------------------------------------------------------------------------------------\n"
   ]
  },
  {
   "cell_type": "markdown",
   "id": "2a39a968-9eaa-48b0-a46a-734b6be1eed1",
   "metadata": {},
   "source": [
    "## Directives\n",
    "\n",
    "Répondre aux questions suivantes à l'aide du code Python fourni sur Moodle, auquel vous aurez apporté les modifications nécessaires. Justifier vos réponses avec clarté et concision. Vos tableaux et figures doivent être lisibles et présentés selon les règles de l'art.\n",
    "\n",
    "Remettre un fichier en format Jupyter Notebook (.ipynb) en utilisant le gabarit fourni dans la boîte de dépôt Moodle.\n"
   ]
  },
  {
   "cell_type": "markdown",
   "id": "c1f94c0f-cf19-4a5a-98e2-25cf28457811",
   "metadata": {},
   "source": [
    "--------------------------------------------------------------------------------------------------------------------------------------------------------\n"
   ]
  },
  {
   "cell_type": "markdown",
   "id": "fcb9c35e-4f12-4606-b9e7-e0f4e385d87d",
   "metadata": {},
   "source": [
    "## Méthode de Newton pour ajustement des données expérimentales (20 points)\n",
    "\n",
    "Dans le cadre de ce mini-projet, nous utiliserons la méthode de Newton pour ajuster sur des données expérimentales une équation analytique de la forme :\n",
    "$$ye = \\frac{p_1}{p^2_2 + (xe-p_3)^2}$$\n",
    "Les données à importer dans votre code se trouvent dans le fichier « mini\\_projet\\_3\\_donnees.txt ».\n",
    "\n",
    "Entre autre, on vous demande de programmer la méthode de Newton pour déduire la valeur des paramètres $p_1$, $p_2$, et $p_3$. Ce problème d’ajustement de modèle théorique $(x,y)$ sur des données expérimentales $(x_e, y_e)$ peut être ramené à la minimisation de la fonction d’erreur :\n",
    "$$Q(p_1, p_2, p_3) = \\frac{1}{2}\\sum_{i=1}^{\\text{length}(xe)} q_i(p_1, p_2, p_3)^2$$\n",
    "où on définit :\n",
    "$$q_i(p_1, p_2, p_3) = ye_i - \\frac{p_1}{p^2_2 + (xe-p_3)^2} \\,.$$\n"
   ]
  },
  {
   "cell_type": "markdown",
   "id": "a8170152-fc87-4f4e-ae92-9553df2a3c9d",
   "metadata": {},
   "source": [
    "--------------------------------------------------------------------------------------------------------------------------------------------------------"
   ]
  },
  {
   "cell_type": "markdown",
   "id": "21e8d3c2-fadc-4778-8f3a-cea547875deb",
   "metadata": {},
   "source": [
    "### Question 1 : Déterminer les dérivées\n",
    "\n",
    "**(5 points)** Écrivez de façon explicite les trois expressions des dérivées de premier ordre $\\frac{\\partial q_i}{\\partial p_j}$ avec $j = 1, 2, 3$ au moyen de (3).\n",
    "\n",
    "**(5 points)** Écrivez de façon explicite les neuf expressions de dérivée seconde $\\frac{\\partial^2 q_i}{\\partial p_j \\partial p_k}$, avec $j, k = 1, 2, 3$. Notez bien que seules six d’entre elles sont différentes.\n"
   ]
  },
  {
   "cell_type": "markdown",
   "id": "e6d59e0f-440a-46bc-a271-fa09ec09ab52",
   "metadata": {},
   "source": [
    "### Réponse **a)** :\n"
   ]
  },
  {
   "cell_type": "markdown",
   "id": "0946e814-bfe3-4e95-8c43-ead69e05cd83",
   "metadata": {},
   "source": [
    "### Réponse **b)** :"
   ]
  },
  {
   "cell_type": "markdown",
   "id": "432cefb9-3aa2-42ba-a2de-c6480f10a8a2",
   "metadata": {},
   "source": [
    "--------------------------------------------------------------------------------------------------------------------------------------------------------"
   ]
  },
  {
   "cell_type": "markdown",
   "id": "622bbe9c-ba99-401c-ab67-0c301a1f6e5a",
   "metadata": {},
   "source": [
    "### Question 2 : Implémentation de la méthode de Newton\n",
    "\n",
    "**(3 points)** Utilisez les données expérimentales qui se trouvent dans le fichier *mini_projet_3_donnees.txt* (le fichier est disponible sur Moodle). Utilisez une tolérance $\\text{tol} = 10^{-6}$. Quelles sont les valeurs convergées des paramètres $p_1^{(conv)}$, $p_2^{(conv)}$, $p_3^{(conv)}$ ? Donnez un exemple des valeurs initiales $\\mathbf{p}_0 = (p_1, p_2, p_3)$ qui mènent à la convergence d’une méthode de Newton.\n",
    "\n",
    "**(2 points)** Quelle est la valeur de la fonction d’erreur $Q(p_1^{(conv)}, p_2^{(conv)}, p_3^{(conv)}$ ?\n"
   ]
  },
  {
   "cell_type": "markdown",
   "id": "b54d8267-8ccc-468b-a377-65e3187fdf4d",
   "metadata": {},
   "source": [
    "### Réponse **c)** :\n"
   ]
  },
  {
   "cell_type": "code",
   "execution_count": 2,
   "id": "2a6ef6e2-b349-47cf-8fcc-4e1b8ae55eb4",
   "metadata": {},
   "outputs": [
    {
     "ename": "SyntaxError",
     "evalue": "invalid syntax (1698459226.py, line 5)",
     "output_type": "error",
     "traceback": [
      "\u001b[1;36m  Cell \u001b[1;32mIn[2], line 5\u001b[1;36m\u001b[0m\n\u001b[1;33m    tol =\u001b[0m\n\u001b[1;37m          ^\u001b[0m\n\u001b[1;31mSyntaxError\u001b[0m\u001b[1;31m:\u001b[0m invalid syntax\n"
     ]
    }
   ],
   "source": [
    "import numpy as np\n",
    "\n",
    "# Valeurs initiales pour les paramètres (à ajuster selon les résultats précédents)\n",
    "p1_conv, p2_conv, p3_conv = 1.0, 0.5, 0.2  # Remplacer par les valeurs réelles trouvées\n",
    "tol = \n",
    "\n",
    "# Fonction pour lire les données à partir du fichier\n",
    "def read_data():\n",
    "    data = np.loadtxt()\n",
    "    x = data[:, 0]\n",
    "    y = data[:, 1]\n",
    "    return x, y\n",
    "\n",
    "# Méthode de Newton pour ajuster les paramètres p1, p2, p3\n",
    "def newton_method(x, y, p1, p2, p3, tol=):\n",
    "    N = len(x)\n",
    "    c = \n",
    "    err = 2 * tol\n",
    "\n",
    "    while err > tol and c < 100:\n",
    "        c += 1\n",
    "        \n",
    "        # Calcul de la fonction d'erreur et ses dérivées par rapport à p1, p2, p3\n",
    "        q = y - p1 / (p2**2 + (x - p3)**2)\n",
    "        dqdp1 = -1 / (p2**2 + (x - p3)**2)\n",
    "        dqdp2 = 2 * p2 * p1 / (p2**2 + (x - p3)**2)**2\n",
    "        dqdp3 = -2 * (x - p3) * p1 / (p2**2 + (x - p3)**2)**2\n",
    "\n",
    "        F1 = np.sum(q * dqdp1)\n",
    "        F2 = np.sum(q * dqdp2)\n",
    "        F3 = np.sum(q * dqdp3)\n",
    "        F = np.array([F1, F2, F3])\n",
    "\n",
    "        # Calcul de la matrice Jacobienne\n",
    "        dF1dp1 = np.sum(dqdp1 * dqdp1)\n",
    "        dF1dp2 = np.sum(dqdp2 * dqdp1)\n",
    "        dF1dp3 = np.sum(dqdp3 * dqdp1)\n",
    "        dF2dp1 = np.sum(dqdp1 * dqdp2)\n",
    "        dF2dp2 = np.sum(dqdp2 * dqdp2)\n",
    "        dF2dp3 = np.sum(dqdp3 * dqdp2)\n",
    "        dF3dp1 = np.sum(dqdp1 * dqdp3)\n",
    "        dF3dp2 = np.sum(dqdp2 * dqdp3)\n",
    "        dF3dp3 = np.sum(dqdp3 * dqdp3)\n",
    "\n",
    "        dFdc = np.array([\n",
    "            [dF1dp1, dF1dp2, dF1dp3],\n",
    "            [dF2dp1, dF2dp2, dF2dp3],\n",
    "            [dF3dp1, dF3dp2, dF3dp3]\n",
    "        ])\n",
    "\n",
    "        # Mise à jour des paramètres\n",
    "        dc = -np.linalg.solve(dFdc, F)\n",
    "        p1 += dc[0]\n",
    "        p2 += dc[1]\n",
    "        p3 += dc[2]\n",
    "        err = np.linalg.norm(dc)\n",
    "\n",
    "    return p1, p2, p3, err\n",
    "\n",
    "# Lire les données\n",
    "\n",
    "# Trouver les valeurs convergées\n",
    "p1_final, p2_final, p3_final, err = newton_method(x, y, p1_conv, p2_conv, p3_conv, tol)\n",
    "print(f\"Valeurs convergées : p1 = {p1_final:.6f}, p2 = {p2_final:.6f}, p3 = {p3_final:.6f}\")\n"
   ]
  },
  {
   "cell_type": "markdown",
   "id": "c76b6083-78db-4b2a-aae4-ffdbdde1323a",
   "metadata": {},
   "source": [
    "### Réponse **d)** :\n"
   ]
  },
  {
   "cell_type": "code",
   "execution_count": null,
   "id": "b181353b-4ebc-4711-a5ea-b96f428d9990",
   "metadata": {},
   "outputs": [
    {
     "ename": "NameError",
     "evalue": "name 'p1_final' is not defined",
     "output_type": "error",
     "traceback": [
      "\u001b[0;31m---------------------------------------------------------------------------\u001b[0m",
      "\u001b[0;31mNameError\u001b[0m                                 Traceback (most recent call last)",
      "Cell \u001b[0;32mIn[7], line 6\u001b[0m\n\u001b[1;32m      3\u001b[0m     Q \u001b[38;5;241m=\u001b[39m \u001b[38;5;241m0.5\u001b[39m \u001b[38;5;241m*\u001b[39m np\u001b[38;5;241m.\u001b[39msum((y \u001b[38;5;241m-\u001b[39m p1 \u001b[38;5;241m/\u001b[39m (p2\u001b[38;5;241m*\u001b[39m\u001b[38;5;241m*\u001b[39m\u001b[38;5;241m2\u001b[39m \u001b[38;5;241m+\u001b[39m (x \u001b[38;5;241m-\u001b[39m p3)\u001b[38;5;241m*\u001b[39m\u001b[38;5;241m*\u001b[39m\u001b[38;5;241m2\u001b[39m))\u001b[38;5;241m*\u001b[39m\u001b[38;5;241m*\u001b[39m\u001b[38;5;241m2\u001b[39m)\n\u001b[1;32m      4\u001b[0m     \u001b[38;5;28;01mreturn\u001b[39;00m Q\n\u001b[0;32m----> 6\u001b[0m Q_final \u001b[38;5;241m=\u001b[39m error_function(\u001b[43mp1_final\u001b[49m, p2_final, p3_final, x, y)\n\u001b[1;32m      7\u001b[0m \u001b[38;5;28mprint\u001b[39m(\u001b[38;5;124mf\u001b[39m\u001b[38;5;124m\"\u001b[39m\u001b[38;5;124mValeur de la fonction d\u001b[39m\u001b[38;5;124m'\u001b[39m\u001b[38;5;124merreur Q : \u001b[39m\u001b[38;5;132;01m{\u001b[39;00mQ_final\u001b[38;5;132;01m:\u001b[39;00m\u001b[38;5;124m.6f\u001b[39m\u001b[38;5;132;01m}\u001b[39;00m\u001b[38;5;124m\"\u001b[39m)\n",
      "\u001b[0;31mNameError\u001b[0m: name 'p1_final' is not defined"
     ]
    }
   ],
   "source": [
    "# Calcul de la fonction d'erreur Q\n",
    "def error_function(p1, p2, p3, x, y):\n",
    "    Q = \n",
    "    return Q\n",
    "\n",
    "Q_final = error_function(p1_final, p2_final, p3_final, x, y)\n",
    "print(f\"Valeur de la fonction d'erreur Q : {Q_final:.6f}\")\n"
   ]
  },
  {
   "cell_type": "markdown",
   "id": "3ed7db3e-5f02-4a94-b5d5-1cf1723468ba",
   "metadata": {},
   "source": [
    "--------------------------------------------------------------------------------------------------------------------------------------------------------\n"
   ]
  },
  {
   "cell_type": "markdown",
   "id": "e7cbf501-6bdb-438b-842b-0a7f4813e7bf",
   "metadata": {},
   "source": [
    "### Question 3 : Sensibilité de la méthode\n",
    "\n",
    "**(3 points)** Il est bien connu que la convergence de la méthode de Newton est très sensible aux estimations initiales des paramètres $\\mathbf{p}_0$. Il est donc intéressant d’étudier la région de convergence de la méthode.\n",
    "\n",
    "En particulier, utilisez les valeurs convergées des paramètres $p_1^{(conv)}$, $p_2^{(conv)}$, $p_3^{(conv)}$ trouvés dans la partie c). Répétez la méthode de Newton pour différentes valeurs initiales de la forme $\\mathbf{p}_n^{(0)} = (p_1^{(conv)}, p_2^{(conv)}, p_3) $, avec $p_3 = (0:0.001:2)p_3^{(conv)}$. Ensuite, tracez $Q$ comme une fonction de $p_3$ sur l’échelle logarithmique.\n"
   ]
  },
  {
   "cell_type": "markdown",
   "id": "801ad6de-67f0-4ea8-ac0e-5de9a59773f8",
   "metadata": {},
   "source": [
    "### Reponse **e)** :"
   ]
  },
  {
   "cell_type": "code",
   "execution_count": null,
   "id": "c782209a-e220-4032-8a29-50ddb2e9ba8b",
   "metadata": {},
   "outputs": [],
   "source": [
    "# Fonction principale pour explorer la région de convergence\n",
    "import matplotlib.pyplot as plt\n",
    "\n",
    "def explorer_convergence(p1_conv, p2_conv, p3_conv, x, y, tol=1e-6):\n",
    "    p3_values = np.arange(0, 2 * p3_conv, 0.001 * p3_conv)\n",
    "    Q_values = []\n",
    "    stable_p3_min = None\n",
    "    stable_p3_max = None\n",
    "\n",
    "    for p3 in p3_values:\n",
    "        p1, p2, p3_final, err = newton_method(x, y, p1_conv, p2_conv, p3, tol)\n",
    "        Q = error_function(p1, p2, p3_final, x, y)\n",
    "        Q_values.append(Q)\n",
    "\n",
    "        if err < tol:\n",
    "            if stable_p3_min is None:\n",
    "                stable_p3_min = p3\n",
    "            stable_p3_max = p3\n",
    "        else:\n",
    "            if stable_p3_max is not None:\n",
    "                break\n",
    "\n",
    "    # Tracer Q en fonction de p3 sur une échelle logarithmique\n",
    "\n",
    "    return stable_p3_min, stable_p3_max\n",
    "\n",
    "# Explorer la convergence pour différentes valeurs de p3\n",
    "p3_min, p3_max = explore_convergence(p1_final, p2_final, p3_final, x, y, tol)\n",
    "print(f\"Intervalle de stabilité: p3_min = {p3_min:.6f}, p3_max = {p3_max:.6f}\")"
   ]
  },
  {
   "cell_type": "markdown",
   "id": "f0fb0226-6b8a-4ccf-a949-23300a020dcd",
   "metadata": {},
   "source": [
    "**(2 points)** Trouvez le plus large intervalle de stabilité $p_3^{(min)} \\leq p_3 \\leq p_3^{(max)}$ de la méthode en fonction de la valeur de $p_3$. Quelles sont les valeurs de $p_3^{(min)}$ et $p_3^{(max)}$ ?"
   ]
  },
  {
   "cell_type": "markdown",
   "id": "c40e4926-0265-456e-b4a1-f244ed61d3f5",
   "metadata": {},
   "source": [
    "### Réponse **f)** :"
   ]
  },
  {
   "cell_type": "markdown",
   "id": "ca28c20d-c5fc-40ef-8492-9010a04e89aa",
   "metadata": {},
   "source": [
    "--------------------------------------------------------------------------------------------------------------------------------------------------------"
   ]
  },
  {
   "cell_type": "code",
   "execution_count": null,
   "id": "492132b1-2f48-4f39-ac0c-18bd123c14d6",
   "metadata": {},
   "outputs": [],
   "source": []
  }
 ],
 "metadata": {
  "kernelspec": {
   "display_name": "Python 3",
   "language": "python",
   "name": "python3"
  },
  "language_info": {
   "codemirror_mode": {
    "name": "ipython",
    "version": 3
   },
   "file_extension": ".py",
   "mimetype": "text/x-python",
   "name": "python",
   "nbconvert_exporter": "python",
   "pygments_lexer": "ipython3",
   "version": "3.12.1"
  }
 },
 "nbformat": 4,
 "nbformat_minor": 5
}
